{
 "cells": [
  {
   "cell_type": "markdown",
   "metadata": {},
   "source": [
    "# SPARQL Tutorial\n",
    "\n",
    "From the very fine Jena SPARQL Tutorial: https://jena.apache.org/tutorials\n",
    "\n",
    "The objective of this SPARQL tutorial is to give a fast course in SPARQL. The tutorial covers the major features of the query language through examples but does not aim to be complete.\n",
    "\n",
    "If you are looking for a short introduction to SPARQL and Jena try Search RDF data with SPARQL. If you are looking to execute SPARQL queries in code and already known SPARQL then you likely want to read the ARQ Documentation instead.\n",
    "\n",
    "SPARQL is a query language and a protocol for accessing RDF designed by the W3C RDF Data Access Working Group. \n",
    "\n",
    "As a query language, SPARQL is “data-oriented” in that it only queries the information held in the models; there is no inference in the query language itself.  Of course, the Jena model may be ‘smart’ in that it provides the impression that certain triples exist by creating them on-demand, including OWL reasoning.  SPARQL does not do anything other than take the description of what the application wants, in the form of a query, and returns that information, in the form of a set of bindings or an RDF graph."
   ]
  },
  {
   "cell_type": "markdown",
   "metadata": {},
   "source": [
    "## First, some DataFrame help\n",
    "\n",
    "It's going to be useful to both view and manipulate these data using DataFrames. So, first a helpful function to convert a SPARQL query to a DataFrame."
   ]
  },
  {
   "cell_type": "code",
   "execution_count": 1,
   "metadata": {},
   "outputs": [],
   "source": [
    "#%load_ext nb_black\n",
    "\n",
    "import rdflib\n",
    "import io\n",
    "import pandas as pd\n",
    "import json\n",
    "from pprint import pprint\n",
    "from box import Box\n",
    "\n",
    "\n",
    "def to_dataframe(sparql_query_result):\n",
    "    \"\"\"\n",
    "    Convert the result of a SPARQL query into a Pandas DataFrame\n",
    "    \n",
    "    A bit naive, in that I'm not handling types at all.\n",
    "    \"\"\"\n",
    "\n",
    "    qres_dict = json.loads(sparql_query_result.serialize(format=\"json\"))\n",
    "    b = Box(qres_dict)\n",
    "\n",
    "    vars = b.head.vars\n",
    "\n",
    "    rows = []\n",
    "    for v in b.results.bindings:\n",
    "        row = {}\n",
    "        for var in vars:\n",
    "            try:\n",
    "                chunk = {var: v[var].value}\n",
    "                row.update(chunk)\n",
    "            except:\n",
    "                chunk = {var: None}\n",
    "        rows.append(row)\n",
    "\n",
    "    df = pd.DataFrame(rows)\n",
    "    return df"
   ]
  },
  {
   "cell_type": "markdown",
   "metadata": {},
   "source": [
    "## Data Formats\n",
    "\n",
    "First, we need to be clear about what data is being queried. SPARQL queries RDF graphs. An RDF graph is a set of triples (Jena calls RDF graphs “models” and triples “statements” because that is what they were called at the time the Jena API was first designed).\n",
    "\n",
    "It is important to realize that it is the triples that matter, not the serialization. The serialization is just a way to write the triples down. RDF/XML is the W3C recommendation but it can be difficult to see the triples in the serialized form because there are multiple ways to encode the same graph.  In this tutorial, we use a more “triple-like” serialization, called Turtle (see also N3 language described in the W3C semantic web primer)."
   ]
  },
  {
   "cell_type": "code",
   "execution_count": 2,
   "metadata": {},
   "outputs": [
    {
     "data": {
      "text/plain": [
       "<Graph identifier=Ncce4190850254b26a77906f7c51ec03e (<class 'rdflib.graph.Graph'>)>"
      ]
     },
     "execution_count": 2,
     "metadata": {},
     "output_type": "execute_result"
    }
   ],
   "source": [
    "turtle_data = \"\"\"\n",
    "@prefix vCard:   <http://www.w3.org/2001/vcard-rdf/3.0#> .\n",
    "@prefix rdf:     <http://www.w3.org/1999/02/22-rdf-syntax-ns#> .\n",
    "\n",
    "<http://somewhere/MattJones/>  vCard:FN   \"Matt Jones\" .\n",
    "<http://somewhere/MattJones/>  vCard:N    _:b0 .\n",
    "_:b0  vCard:Family \"Jones\" .\n",
    "_:b0  vCard:Given  \"Matthew\" .\n",
    "\n",
    "\n",
    "<http://somewhere/RebeccaSmith/> vCard:FN    \"Becky Smith\" .\n",
    "<http://somewhere/RebeccaSmith/> vCard:N     _:b1 .\n",
    "_:b1 vCard:Family \"Smith\" .\n",
    "_:b1 vCard:Given  \"Rebecca\" .\n",
    "\n",
    "<http://somewhere/JohnSmith/>    vCard:FN    \"John Smith\" .\n",
    "<http://somewhere/JohnSmith/>    vCard:N     _:b2 .\n",
    "_:b2 vCard:Family \"Smith\" .\n",
    "_:b2 vCard:Given  \"John\"  .\n",
    "\n",
    "<http://somewhere/SarahJones/>   vCard:FN    \"Sarah Jones\" .\n",
    "<http://somewhere/SarahJones/>   vCard:N     _:b3 .\n",
    "_:b3 vCard:Family  \"Jones\" .\n",
    "_:b3 vCard:Given   \"Sarah\" .\n",
    "\"\"\"\n",
    "\n",
    "g = rdflib.Graph()\n",
    "g.parse(format=\"turtle\", data=turtle_data)"
   ]
  },
  {
   "cell_type": "markdown",
   "metadata": {},
   "source": [
    "## A First SPARQL Query\n",
    "\n"
   ]
  },
  {
   "cell_type": "code",
   "execution_count": 3,
   "metadata": {},
   "outputs": [
    {
     "data": {
      "text/html": [
       "<div>\n",
       "<style scoped>\n",
       "    .dataframe tbody tr th:only-of-type {\n",
       "        vertical-align: middle;\n",
       "    }\n",
       "\n",
       "    .dataframe tbody tr th {\n",
       "        vertical-align: top;\n",
       "    }\n",
       "\n",
       "    .dataframe thead th {\n",
       "        text-align: right;\n",
       "    }\n",
       "</style>\n",
       "<table border=\"1\" class=\"dataframe\">\n",
       "  <thead>\n",
       "    <tr style=\"text-align: right;\">\n",
       "      <th></th>\n",
       "      <th>x</th>\n",
       "    </tr>\n",
       "  </thead>\n",
       "  <tbody>\n",
       "    <tr>\n",
       "      <th>0</th>\n",
       "      <td>http://somewhere/JohnSmith/</td>\n",
       "    </tr>\n",
       "  </tbody>\n",
       "</table>\n",
       "</div>"
      ],
      "text/plain": [
       "                             x\n",
       "0  http://somewhere/JohnSmith/"
      ]
     },
     "execution_count": 3,
     "metadata": {},
     "output_type": "execute_result"
    }
   ],
   "source": [
    "sparql_query = \"\"\"\n",
    "SELECT ?x\n",
    "WHERE { ?x  <http://www.w3.org/2001/vcard-rdf/3.0#FN>  \"John Smith\" }\n",
    "\"\"\"\n",
    "\n",
    "qres = g.query(sparql_query)\n",
    "df = to_dataframe(qres)\n",
    "df"
   ]
  },
  {
   "cell_type": "markdown",
   "metadata": {},
   "source": [
    "This works by matching the triple pattern in the WHERE clause against the triples in the RDF graph. The predicate and object of the triple are fixed values so the pattern is going to match only triples with those values. The subject is a variable, and there are no other restrictions on the variable. The pattern matches any triples with these predicate and object values, and it matches with solutions for x.\n",
    "\n",
    "The item enclosed in <> is a URI (actually, it’s an IRI) and the item enclosed in \"” is a plain literal. Just like Turtle, N3 or N-triples, typed literals are written with ^^ and language tags can be added with @.\n",
    "\n",
    "?x is a variable called x. The ? does not form part of the name which is why it does not appear in the table output.\n",
    "\n",
    "There is one match. The query returns the match in the x query variable. The output shown was obtained by using one of ARQ’s command line applications."
   ]
  },
  {
   "cell_type": "markdown",
   "metadata": {},
   "source": [
    "## Basic patterns\n",
    "\n",
    "This section covers basic patterns and solutions, the main building blocks of SPARQL queries."
   ]
  },
  {
   "cell_type": "markdown",
   "metadata": {},
   "source": [
    "### Solutions\n",
    "\n",
    "Query solutions are a set of pairs of a variable name with a value. A SELECT query directly exposes the solutions (after order/limit/offset are applied) as the result set - other query forms use the solutions to make a graph. The solution is the way the pattern matched - which values the variables must take for a pattern to match.\n",
    "\n",
    "The first query example had a single solution. Change the pattern to this second query:"
   ]
  },
  {
   "cell_type": "code",
   "execution_count": 4,
   "metadata": {},
   "outputs": [
    {
     "data": {
      "text/html": [
       "<div>\n",
       "<style scoped>\n",
       "    .dataframe tbody tr th:only-of-type {\n",
       "        vertical-align: middle;\n",
       "    }\n",
       "\n",
       "    .dataframe tbody tr th {\n",
       "        vertical-align: top;\n",
       "    }\n",
       "\n",
       "    .dataframe thead th {\n",
       "        text-align: right;\n",
       "    }\n",
       "</style>\n",
       "<table border=\"1\" class=\"dataframe\">\n",
       "  <thead>\n",
       "    <tr style=\"text-align: right;\">\n",
       "      <th></th>\n",
       "      <th>x</th>\n",
       "      <th>fname</th>\n",
       "    </tr>\n",
       "  </thead>\n",
       "  <tbody>\n",
       "    <tr>\n",
       "      <th>0</th>\n",
       "      <td>http://somewhere/MattJones/</td>\n",
       "      <td>Matt Jones</td>\n",
       "    </tr>\n",
       "    <tr>\n",
       "      <th>1</th>\n",
       "      <td>http://somewhere/RebeccaSmith/</td>\n",
       "      <td>Becky Smith</td>\n",
       "    </tr>\n",
       "    <tr>\n",
       "      <th>2</th>\n",
       "      <td>http://somewhere/JohnSmith/</td>\n",
       "      <td>John Smith</td>\n",
       "    </tr>\n",
       "    <tr>\n",
       "      <th>3</th>\n",
       "      <td>http://somewhere/SarahJones/</td>\n",
       "      <td>Sarah Jones</td>\n",
       "    </tr>\n",
       "  </tbody>\n",
       "</table>\n",
       "</div>"
      ],
      "text/plain": [
       "                                x        fname\n",
       "0     http://somewhere/MattJones/   Matt Jones\n",
       "1  http://somewhere/RebeccaSmith/  Becky Smith\n",
       "2     http://somewhere/JohnSmith/   John Smith\n",
       "3    http://somewhere/SarahJones/  Sarah Jones"
      ]
     },
     "execution_count": 4,
     "metadata": {},
     "output_type": "execute_result"
    }
   ],
   "source": [
    "sparql_query = \"\"\"\n",
    "SELECT ?x ?fname\n",
    "WHERE {?x  <http://www.w3.org/2001/vcard-rdf/3.0#FN>  ?fname}\n",
    "\"\"\"\n",
    "\n",
    "qres = g.query(sparql_query)\n",
    "df = to_dataframe(qres)\n",
    "df"
   ]
  },
  {
   "cell_type": "markdown",
   "metadata": {},
   "source": [
    "This has 4 solutions, one for each VCARD name property triples in the data source.\n",
    "\n",
    "So far, with triple patterns and basic patterns, every variable will be defined in every solution. The solutions to a query can be thought of a table, but in the general case, it is a table where not every row will have a value for every column. All the solutions to a given SPARQL query don’t have to have values for all the variables in every solution as we shall see later."
   ]
  },
  {
   "cell_type": "markdown",
   "metadata": {},
   "source": [
    "### Basic Patterns\n",
    "\n",
    "A basic pattern is a set of triple patterns. It matches when the triple patterns all match with the same value used each time the variable with the same name is used."
   ]
  },
  {
   "cell_type": "code",
   "execution_count": 5,
   "metadata": {},
   "outputs": [
    {
     "data": {
      "text/html": [
       "<div>\n",
       "<style scoped>\n",
       "    .dataframe tbody tr th:only-of-type {\n",
       "        vertical-align: middle;\n",
       "    }\n",
       "\n",
       "    .dataframe tbody tr th {\n",
       "        vertical-align: top;\n",
       "    }\n",
       "\n",
       "    .dataframe thead th {\n",
       "        text-align: right;\n",
       "    }\n",
       "</style>\n",
       "<table border=\"1\" class=\"dataframe\">\n",
       "  <thead>\n",
       "    <tr style=\"text-align: right;\">\n",
       "      <th></th>\n",
       "      <th>givenName</th>\n",
       "    </tr>\n",
       "  </thead>\n",
       "  <tbody>\n",
       "    <tr>\n",
       "      <th>0</th>\n",
       "      <td>Rebecca</td>\n",
       "    </tr>\n",
       "    <tr>\n",
       "      <th>1</th>\n",
       "      <td>John</td>\n",
       "    </tr>\n",
       "  </tbody>\n",
       "</table>\n",
       "</div>"
      ],
      "text/plain": [
       "  givenName\n",
       "0   Rebecca\n",
       "1      John"
      ]
     },
     "execution_count": 5,
     "metadata": {},
     "output_type": "execute_result"
    }
   ],
   "source": [
    "sparql_query = \"\"\"\n",
    "SELECT ?givenName\n",
    "WHERE\n",
    "  { ?y  <http://www.w3.org/2001/vcard-rdf/3.0#Family>  \"Smith\" .\n",
    "    ?y  <http://www.w3.org/2001/vcard-rdf/3.0#Given>  ?givenName .\n",
    "  }\n",
    "\"\"\"\n",
    "\n",
    "qres = g.query(sparql_query)\n",
    "df = to_dataframe(qres)\n",
    "df"
   ]
  },
  {
   "cell_type": "markdown",
   "metadata": {},
   "source": [
    "This query involves two triple patterns, each triple ends in a ‘.’ (but the dot after the last one can be omitted like it was in the one triple pattern example). The variable y has to be the same for each triple pattern match."
   ]
  },
  {
   "cell_type": "markdown",
   "metadata": {},
   "source": [
    "### QNames\n",
    "\n",
    "There is shorthand mechanism for writing long URIs using prefixes. The query above is more clearly written as the query:"
   ]
  },
  {
   "cell_type": "code",
   "execution_count": 6,
   "metadata": {},
   "outputs": [
    {
     "data": {
      "text/html": [
       "<div>\n",
       "<style scoped>\n",
       "    .dataframe tbody tr th:only-of-type {\n",
       "        vertical-align: middle;\n",
       "    }\n",
       "\n",
       "    .dataframe tbody tr th {\n",
       "        vertical-align: top;\n",
       "    }\n",
       "\n",
       "    .dataframe thead th {\n",
       "        text-align: right;\n",
       "    }\n",
       "</style>\n",
       "<table border=\"1\" class=\"dataframe\">\n",
       "  <thead>\n",
       "    <tr style=\"text-align: right;\">\n",
       "      <th></th>\n",
       "      <th>givenName</th>\n",
       "    </tr>\n",
       "  </thead>\n",
       "  <tbody>\n",
       "    <tr>\n",
       "      <th>0</th>\n",
       "      <td>Rebecca</td>\n",
       "    </tr>\n",
       "    <tr>\n",
       "      <th>1</th>\n",
       "      <td>John</td>\n",
       "    </tr>\n",
       "  </tbody>\n",
       "</table>\n",
       "</div>"
      ],
      "text/plain": [
       "  givenName\n",
       "0   Rebecca\n",
       "1      John"
      ]
     },
     "execution_count": 6,
     "metadata": {},
     "output_type": "execute_result"
    }
   ],
   "source": [
    "sparql_query = \"\"\"\n",
    "PREFIX vcard:      <http://www.w3.org/2001/vcard-rdf/3.0#>\n",
    "\n",
    "SELECT ?givenName\n",
    "WHERE\n",
    " { ?y vcard:Family \"Smith\" .\n",
    "   ?y vcard:Given  ?givenName .\n",
    " }\n",
    "\"\"\"\n",
    "\n",
    "qres = g.query(sparql_query)\n",
    "df = to_dataframe(qres)\n",
    "df"
   ]
  },
  {
   "cell_type": "markdown",
   "metadata": {},
   "source": [
    "This is a prefixing mechanism - the two parts of the URIs, from the prefix declaration and from the part after the “:” in the qname, are concatenated together. This is strictly not what an XML qname is but uses the RDF rule for turning a qname into a URI by concatenating the parts."
   ]
  },
  {
   "cell_type": "markdown",
   "metadata": {},
   "source": [
    "### Blank Nodes\n",
    "\n",
    "Note that the y will be rendered as a full BNode in rdflib. It's tough to read that they are truly different, but they are."
   ]
  },
  {
   "cell_type": "code",
   "execution_count": 7,
   "metadata": {},
   "outputs": [
    {
     "data": {
      "text/html": [
       "<div>\n",
       "<style scoped>\n",
       "    .dataframe tbody tr th:only-of-type {\n",
       "        vertical-align: middle;\n",
       "    }\n",
       "\n",
       "    .dataframe tbody tr th {\n",
       "        vertical-align: top;\n",
       "    }\n",
       "\n",
       "    .dataframe thead th {\n",
       "        text-align: right;\n",
       "    }\n",
       "</style>\n",
       "<table border=\"1\" class=\"dataframe\">\n",
       "  <thead>\n",
       "    <tr style=\"text-align: right;\">\n",
       "      <th></th>\n",
       "      <th>y</th>\n",
       "      <th>givenName</th>\n",
       "    </tr>\n",
       "  </thead>\n",
       "  <tbody>\n",
       "    <tr>\n",
       "      <th>0</th>\n",
       "      <td>n973bfd03599844f6bf11b15bfa373099b2</td>\n",
       "      <td>Rebecca</td>\n",
       "    </tr>\n",
       "    <tr>\n",
       "      <th>1</th>\n",
       "      <td>n973bfd03599844f6bf11b15bfa373099b3</td>\n",
       "      <td>John</td>\n",
       "    </tr>\n",
       "  </tbody>\n",
       "</table>\n",
       "</div>"
      ],
      "text/plain": [
       "                                     y givenName\n",
       "0  n973bfd03599844f6bf11b15bfa373099b2   Rebecca\n",
       "1  n973bfd03599844f6bf11b15bfa373099b3      John"
      ]
     },
     "execution_count": 7,
     "metadata": {},
     "output_type": "execute_result"
    }
   ],
   "source": [
    "sparql_query = \"\"\"\n",
    "PREFIX vcard:      <http://www.w3.org/2001/vcard-rdf/3.0#>\n",
    "\n",
    "SELECT ?y ?givenName\n",
    "WHERE\n",
    " { ?y vcard:Family \"Smith\" .\n",
    "   ?y vcard:Given  ?givenName .\n",
    " }\n",
    "\"\"\"\n",
    "\n",
    "qres = g.query(sparql_query)\n",
    "df = to_dataframe(qres)\n",
    "df"
   ]
  },
  {
   "cell_type": "markdown",
   "metadata": {},
   "source": [
    "## Filters\n",
    "\n",
    "Graph matching allows patterns in the graph to be found. This section describes how the values in a solution can be restricted. There are many comparisons available - we just cover two cases here."
   ]
  },
  {
   "cell_type": "markdown",
   "metadata": {},
   "source": [
    "### String Matching\n",
    "\n",
    "SPARQL provides an operation to test strings, based on regular expressions.  This includes the ability to ask SQL “LIKE” style tests, although the syntax of the regular expression is different from SQL.\n",
    "\n",
    "The syntax is:\n",
    "\n",
    "`FILTER regex(?x, \"pattern\" [, \"flags\"])`\n",
    "\n",
    "The flags argument is optional.  The flag “i” means a case-insensitive pattern match is done.\n",
    "\n",
    "The example query finds given names with an “r” or “R” in them."
   ]
  },
  {
   "cell_type": "code",
   "execution_count": 8,
   "metadata": {},
   "outputs": [
    {
     "data": {
      "text/html": [
       "<div>\n",
       "<style scoped>\n",
       "    .dataframe tbody tr th:only-of-type {\n",
       "        vertical-align: middle;\n",
       "    }\n",
       "\n",
       "    .dataframe tbody tr th {\n",
       "        vertical-align: top;\n",
       "    }\n",
       "\n",
       "    .dataframe thead th {\n",
       "        text-align: right;\n",
       "    }\n",
       "</style>\n",
       "<table border=\"1\" class=\"dataframe\">\n",
       "  <thead>\n",
       "    <tr style=\"text-align: right;\">\n",
       "      <th></th>\n",
       "      <th>g</th>\n",
       "    </tr>\n",
       "  </thead>\n",
       "  <tbody>\n",
       "    <tr>\n",
       "      <th>0</th>\n",
       "      <td>Rebecca</td>\n",
       "    </tr>\n",
       "    <tr>\n",
       "      <th>1</th>\n",
       "      <td>Sarah</td>\n",
       "    </tr>\n",
       "  </tbody>\n",
       "</table>\n",
       "</div>"
      ],
      "text/plain": [
       "         g\n",
       "0  Rebecca\n",
       "1    Sarah"
      ]
     },
     "execution_count": 8,
     "metadata": {},
     "output_type": "execute_result"
    }
   ],
   "source": [
    "sparql_query = \"\"\"\n",
    "PREFIX vcard: <http://www.w3.org/2001/vcard-rdf/3.0#>\n",
    "\n",
    "SELECT ?g\n",
    "WHERE\n",
    "{ ?y vcard:Given ?g .\n",
    "  FILTER regex(?g, \"r\", \"i\") }\n",
    "\"\"\"\n",
    "\n",
    "qres = g.query(sparql_query)\n",
    "df = to_dataframe(qres)\n",
    "df"
   ]
  },
  {
   "cell_type": "markdown",
   "metadata": {},
   "source": [
    "The regular expression language is the same as the XQuery regular expression language which is codified version of that found in Perl."
   ]
  },
  {
   "cell_type": "markdown",
   "metadata": {},
   "source": [
    "### Testing Values\n",
    "\n",
    "There are times when the application wants to filter on the value of a variable.  In the data, we have added an extra field for age.  Age is not defined by the vCard schema so we have created a new property for the purpose of this tutorial.  RDF allows such mixing of different definitions of information because URIs are unique. Note also that the info:age property value is typed."
   ]
  },
  {
   "cell_type": "code",
   "execution_count": 9,
   "metadata": {},
   "outputs": [
    {
     "data": {
      "text/plain": [
       "<Graph identifier=N84d9f6d14b2e49c6bd6f2a8f0c725a06 (<class 'rdflib.graph.Graph'>)>"
      ]
     },
     "execution_count": 9,
     "metadata": {},
     "output_type": "execute_result"
    }
   ],
   "source": [
    "xml_data = \"\"\"\n",
    "<rdf:RDF\n",
    "  xmlns:rdf='http://www.w3.org/1999/02/22-rdf-syntax-ns#'\n",
    "  xmlns:vCard='http://www.w3.org/2001/vcard-rdf/3.0#'\n",
    "  xmlns:info='http://somewhere/peopleInfo#'\n",
    "   >\n",
    "\n",
    "  <rdf:Description rdf:about=\"http://somewhere/JohnSmith\">\n",
    "    <vCard:FN>John Smith</vCard:FN>\n",
    "    <info:age rdf:datatype='http://www.w3.org/2001/XMLSchema#integer'>25</info:age>\n",
    "    <vCard:N rdf:parseType=\"Resource\">\n",
    "    <vCard:Family>Smith</vCard:Family>\n",
    "    <vCard:Given>John</vCard:Given>\n",
    "    </vCard:N>\n",
    "  </rdf:Description>\n",
    "\n",
    "  <rdf:Description rdf:about=\"http://somewhere/RebeccaSmith\">\n",
    "    <vCard:FN>Becky Smith</vCard:FN>\n",
    "    <info:age rdf:datatype='http://www.w3.org/2001/XMLSchema#integer'>23</info:age>\n",
    "    <vCard:N rdf:parseType=\"Resource\">\n",
    "    <vCard:Family>Smith</vCard:Family>\n",
    "    <vCard:Given>Rebecca</vCard:Given>\n",
    "    </vCard:N>\n",
    "  </rdf:Description>\n",
    "\n",
    "  <rdf:Description rdf:about=\"http://somewhere/SarahJones\">\n",
    "    <vCard:FN>Sarah Jones</vCard:FN>\n",
    "    <vCard:N rdf:parseType=\"Resource\">\n",
    "    <vCard:Family>Jones</vCard:Family>\n",
    "    <vCard:Given>Sarah</vCard:Given>\n",
    "    </vCard:N>\n",
    "  </rdf:Description>\n",
    "\n",
    "  <rdf:Description rdf:about=\"http://somewhere/MattJones\">\n",
    "    <vCard:FN>Matt Jones</vCard:FN>\n",
    "    <vCard:N\n",
    "    vCard:Family=\"Jones\"\n",
    "    vCard:Given=\"Matthew\"/>\n",
    "  </rdf:Description>\n",
    "\n",
    "</rdf:RDF>\n",
    "\"\"\"\n",
    "\n",
    "g = rdflib.Graph()\n",
    "g.parse(format=\"xml\", data=xml_data)"
   ]
  },
  {
   "cell_type": "markdown",
   "metadata": {},
   "source": [
    "So, a query to find the names of people who are older than 24 is:"
   ]
  },
  {
   "cell_type": "code",
   "execution_count": 10,
   "metadata": {},
   "outputs": [
    {
     "data": {
      "text/html": [
       "<div>\n",
       "<style scoped>\n",
       "    .dataframe tbody tr th:only-of-type {\n",
       "        vertical-align: middle;\n",
       "    }\n",
       "\n",
       "    .dataframe tbody tr th {\n",
       "        vertical-align: top;\n",
       "    }\n",
       "\n",
       "    .dataframe thead th {\n",
       "        text-align: right;\n",
       "    }\n",
       "</style>\n",
       "<table border=\"1\" class=\"dataframe\">\n",
       "  <thead>\n",
       "    <tr style=\"text-align: right;\">\n",
       "      <th></th>\n",
       "      <th>resource</th>\n",
       "    </tr>\n",
       "  </thead>\n",
       "  <tbody>\n",
       "    <tr>\n",
       "      <th>0</th>\n",
       "      <td>http://somewhere/JohnSmith</td>\n",
       "    </tr>\n",
       "  </tbody>\n",
       "</table>\n",
       "</div>"
      ],
      "text/plain": [
       "                     resource\n",
       "0  http://somewhere/JohnSmith"
      ]
     },
     "execution_count": 10,
     "metadata": {},
     "output_type": "execute_result"
    }
   ],
   "source": [
    "sparql_query = \"\"\"\n",
    "PREFIX info: <http://somewhere/peopleInfo#>\n",
    "\n",
    "SELECT ?resource\n",
    "WHERE\n",
    "  {\n",
    "    ?resource info:age ?age .\n",
    "    FILTER (?age >= 24)\n",
    "  }\n",
    "\"\"\"\n",
    "\n",
    "qres = g.query(sparql_query)\n",
    "df = to_dataframe(qres)\n",
    "df"
   ]
  },
  {
   "cell_type": "markdown",
   "metadata": {},
   "source": [
    "The arithmetic expression must be in parentheses (round brackets). Just one match, resulting in the resource URI for John Smith. Turning this round to ask for those less than 24 also yields one match for Rebecca Smith.  Nothing about the Jones’s.\n",
    "\n",
    "The database contains no age information about the Jones: there are no info:age properties on these vCards so the variable age did not get a value and so was not tested by the filter."
   ]
  },
  {
   "cell_type": "markdown",
   "metadata": {},
   "source": [
    "## Optional information\n",
    "\n",
    "RDF is semi-structured data so SPARQL has a the ability to query for data but not to fail query when that data does not exist. The query is using an optional part to extend the information found in a query solution but to return the non-optional information anyway."
   ]
  },
  {
   "cell_type": "markdown",
   "metadata": {},
   "source": [
    "### OPTIONALs\n",
    "\n",
    "This query gets the name of a person and also their age if that piece of information is available."
   ]
  },
  {
   "cell_type": "code",
   "execution_count": 11,
   "metadata": {},
   "outputs": [
    {
     "data": {
      "text/html": [
       "<div>\n",
       "<style scoped>\n",
       "    .dataframe tbody tr th:only-of-type {\n",
       "        vertical-align: middle;\n",
       "    }\n",
       "\n",
       "    .dataframe tbody tr th {\n",
       "        vertical-align: top;\n",
       "    }\n",
       "\n",
       "    .dataframe thead th {\n",
       "        text-align: right;\n",
       "    }\n",
       "</style>\n",
       "<table border=\"1\" class=\"dataframe\">\n",
       "  <thead>\n",
       "    <tr style=\"text-align: right;\">\n",
       "      <th></th>\n",
       "      <th>name</th>\n",
       "      <th>age</th>\n",
       "    </tr>\n",
       "  </thead>\n",
       "  <tbody>\n",
       "    <tr>\n",
       "      <th>0</th>\n",
       "      <td>John Smith</td>\n",
       "      <td>25</td>\n",
       "    </tr>\n",
       "    <tr>\n",
       "      <th>1</th>\n",
       "      <td>Becky Smith</td>\n",
       "      <td>23</td>\n",
       "    </tr>\n",
       "    <tr>\n",
       "      <th>2</th>\n",
       "      <td>Sarah Jones</td>\n",
       "      <td>NaN</td>\n",
       "    </tr>\n",
       "    <tr>\n",
       "      <th>3</th>\n",
       "      <td>Matt Jones</td>\n",
       "      <td>NaN</td>\n",
       "    </tr>\n",
       "  </tbody>\n",
       "</table>\n",
       "</div>"
      ],
      "text/plain": [
       "          name  age\n",
       "0   John Smith   25\n",
       "1  Becky Smith   23\n",
       "2  Sarah Jones  NaN\n",
       "3   Matt Jones  NaN"
      ]
     },
     "execution_count": 11,
     "metadata": {},
     "output_type": "execute_result"
    }
   ],
   "source": [
    "sparql_query = \"\"\"\n",
    "PREFIX info:    <http://somewhere/peopleInfo#>\n",
    "PREFIX vcard:   <http://www.w3.org/2001/vcard-rdf/3.0#>\n",
    "\n",
    "SELECT ?name ?age\n",
    "WHERE\n",
    "{\n",
    "    ?person vcard:FN  ?name .\n",
    "    OPTIONAL { ?person info:age ?age }\n",
    "}\n",
    "\"\"\"\n",
    "\n",
    "qres = g.query(sparql_query)\n",
    "df = to_dataframe(qres)\n",
    "df"
   ]
  },
  {
   "cell_type": "markdown",
   "metadata": {},
   "source": [
    "Two of the four people in the data have age properties so two of the query solutions have that information.  However, because the triple pattern for the age is optional, there is a pattern solution for the people who don’t have age information.\n",
    "\n",
    "If the optional clause had not been there, no age information would have been retrieved. If the triple pattern had been included but not optional then we would have the query with only two solutions because the `info:age` property must now be present in a solution:"
   ]
  },
  {
   "cell_type": "code",
   "execution_count": 12,
   "metadata": {},
   "outputs": [
    {
     "data": {
      "text/html": [
       "<div>\n",
       "<style scoped>\n",
       "    .dataframe tbody tr th:only-of-type {\n",
       "        vertical-align: middle;\n",
       "    }\n",
       "\n",
       "    .dataframe tbody tr th {\n",
       "        vertical-align: top;\n",
       "    }\n",
       "\n",
       "    .dataframe thead th {\n",
       "        text-align: right;\n",
       "    }\n",
       "</style>\n",
       "<table border=\"1\" class=\"dataframe\">\n",
       "  <thead>\n",
       "    <tr style=\"text-align: right;\">\n",
       "      <th></th>\n",
       "      <th>name</th>\n",
       "      <th>age</th>\n",
       "    </tr>\n",
       "  </thead>\n",
       "  <tbody>\n",
       "    <tr>\n",
       "      <th>0</th>\n",
       "      <td>John Smith</td>\n",
       "      <td>25</td>\n",
       "    </tr>\n",
       "    <tr>\n",
       "      <th>1</th>\n",
       "      <td>Becky Smith</td>\n",
       "      <td>23</td>\n",
       "    </tr>\n",
       "  </tbody>\n",
       "</table>\n",
       "</div>"
      ],
      "text/plain": [
       "          name age\n",
       "0   John Smith  25\n",
       "1  Becky Smith  23"
      ]
     },
     "execution_count": 12,
     "metadata": {},
     "output_type": "execute_result"
    }
   ],
   "source": [
    "sparql_query = \"\"\"\n",
    "PREFIX info:   <http://somewhere/peopleInfo#>\n",
    "PREFIX vcard:  <http://www.w3.org/2001/vcard-rdf/3.0#>\n",
    "\n",
    "SELECT ?name ?age\n",
    "WHERE\n",
    "{\n",
    "    ?person vcard:FN  ?name .\n",
    "    ?person info:age ?age .\n",
    "}\n",
    "\"\"\"\n",
    "\n",
    "qres = g.query(sparql_query)\n",
    "df = to_dataframe(qres)\n",
    "df"
   ]
  },
  {
   "cell_type": "markdown",
   "metadata": {},
   "source": [
    "### OPTIONALs with FILTERs\n",
    "\n",
    "OPTIONAL is a binary operator that combines two graph patterns. The optional pattern is any group pattern and may involve any SPARQL pattern types.  If the group matches, the solution is extended, if not, the original solution is given. So, if we filter for ages greater than 24 in the optional part, we will still get 4 solutions (from the vcard:FN pattern) but only get ages if they pass the test."
   ]
  },
  {
   "cell_type": "code",
   "execution_count": 13,
   "metadata": {},
   "outputs": [
    {
     "data": {
      "text/html": [
       "<div>\n",
       "<style scoped>\n",
       "    .dataframe tbody tr th:only-of-type {\n",
       "        vertical-align: middle;\n",
       "    }\n",
       "\n",
       "    .dataframe tbody tr th {\n",
       "        vertical-align: top;\n",
       "    }\n",
       "\n",
       "    .dataframe thead th {\n",
       "        text-align: right;\n",
       "    }\n",
       "</style>\n",
       "<table border=\"1\" class=\"dataframe\">\n",
       "  <thead>\n",
       "    <tr style=\"text-align: right;\">\n",
       "      <th></th>\n",
       "      <th>name</th>\n",
       "      <th>age</th>\n",
       "    </tr>\n",
       "  </thead>\n",
       "  <tbody>\n",
       "    <tr>\n",
       "      <th>0</th>\n",
       "      <td>John Smith</td>\n",
       "      <td>25</td>\n",
       "    </tr>\n",
       "    <tr>\n",
       "      <th>1</th>\n",
       "      <td>Becky Smith</td>\n",
       "      <td>NaN</td>\n",
       "    </tr>\n",
       "    <tr>\n",
       "      <th>2</th>\n",
       "      <td>Sarah Jones</td>\n",
       "      <td>NaN</td>\n",
       "    </tr>\n",
       "    <tr>\n",
       "      <th>3</th>\n",
       "      <td>Matt Jones</td>\n",
       "      <td>NaN</td>\n",
       "    </tr>\n",
       "  </tbody>\n",
       "</table>\n",
       "</div>"
      ],
      "text/plain": [
       "          name  age\n",
       "0   John Smith   25\n",
       "1  Becky Smith  NaN\n",
       "2  Sarah Jones  NaN\n",
       "3   Matt Jones  NaN"
      ]
     },
     "execution_count": 13,
     "metadata": {},
     "output_type": "execute_result"
    }
   ],
   "source": [
    "sparql_query = \"\"\"\n",
    "PREFIX info:        <http://somewhere/peopleInfo#>\n",
    "PREFIX vcard:      <http://www.w3.org/2001/vcard-rdf/3.0#>\n",
    "\n",
    "SELECT ?name ?age\n",
    "WHERE\n",
    "{\n",
    "    ?person vcard:FN  ?name .\n",
    "    OPTIONAL { ?person info:age ?age . FILTER ( ?age > 24 ) }\n",
    "}\n",
    "\"\"\"\n",
    "\n",
    "qres = g.query(sparql_query)\n",
    "df = to_dataframe(qres)\n",
    "df"
   ]
  },
  {
   "cell_type": "markdown",
   "metadata": {},
   "source": [
    "No age included for “Becky Smith” because it is less than 24.\n",
    "\n",
    "If the filter condition is moved out of the optional part, then it can influence the number of solutions but it may be necessary to make the filter more complicated to allow for variable age being unbound.\n",
    "\n",
    "If a solution has an age variable, then it must be greater than 24. It can also be unbound.  There are now three solutions:"
   ]
  },
  {
   "cell_type": "code",
   "execution_count": 14,
   "metadata": {},
   "outputs": [
    {
     "data": {
      "text/html": [
       "<div>\n",
       "<style scoped>\n",
       "    .dataframe tbody tr th:only-of-type {\n",
       "        vertical-align: middle;\n",
       "    }\n",
       "\n",
       "    .dataframe tbody tr th {\n",
       "        vertical-align: top;\n",
       "    }\n",
       "\n",
       "    .dataframe thead th {\n",
       "        text-align: right;\n",
       "    }\n",
       "</style>\n",
       "<table border=\"1\" class=\"dataframe\">\n",
       "  <thead>\n",
       "    <tr style=\"text-align: right;\">\n",
       "      <th></th>\n",
       "      <th>name</th>\n",
       "      <th>age</th>\n",
       "    </tr>\n",
       "  </thead>\n",
       "  <tbody>\n",
       "    <tr>\n",
       "      <th>0</th>\n",
       "      <td>John Smith</td>\n",
       "      <td>25</td>\n",
       "    </tr>\n",
       "    <tr>\n",
       "      <th>1</th>\n",
       "      <td>Sarah Jones</td>\n",
       "      <td>NaN</td>\n",
       "    </tr>\n",
       "    <tr>\n",
       "      <th>2</th>\n",
       "      <td>Matt Jones</td>\n",
       "      <td>NaN</td>\n",
       "    </tr>\n",
       "  </tbody>\n",
       "</table>\n",
       "</div>"
      ],
      "text/plain": [
       "          name  age\n",
       "0   John Smith   25\n",
       "1  Sarah Jones  NaN\n",
       "2   Matt Jones  NaN"
      ]
     },
     "execution_count": 14,
     "metadata": {},
     "output_type": "execute_result"
    }
   ],
   "source": [
    "sparql_query = \"\"\"\n",
    "PREFIX info:        <http://somewhere/peopleInfo#>\n",
    "PREFIX vcard:      <http://www.w3.org/2001/vcard-rdf/3.0#>\n",
    "\n",
    "SELECT ?name ?age\n",
    "WHERE\n",
    "{\n",
    "    ?person vcard:FN  ?name .\n",
    "    OPTIONAL { ?person info:age ?age . }\n",
    "    FILTER ( !bound(?age) || ?age > 24 )\n",
    "}\n",
    "\"\"\"\n",
    "\n",
    "qres = g.query(sparql_query)\n",
    "df = to_dataframe(qres)\n",
    "df"
   ]
  },
  {
   "cell_type": "markdown",
   "metadata": {},
   "source": [
    "Evaluating an expression which has an unbound variables where a bound one was expected causes an evaluation exception and the whole expression fails."
   ]
  },
  {
   "cell_type": "markdown",
   "metadata": {},
   "source": [
    "### OPTIONALs and Order Dependent Queries\n",
    "\n",
    "One thing to be careful of is using the same variable in two or more optional clauses (and not in some basic pattern as well):"
   ]
  },
  {
   "cell_type": "code",
   "execution_count": 15,
   "metadata": {},
   "outputs": [
    {
     "data": {
      "text/html": [
       "<div>\n",
       "<style scoped>\n",
       "    .dataframe tbody tr th:only-of-type {\n",
       "        vertical-align: middle;\n",
       "    }\n",
       "\n",
       "    .dataframe tbody tr th {\n",
       "        vertical-align: top;\n",
       "    }\n",
       "\n",
       "    .dataframe thead th {\n",
       "        text-align: right;\n",
       "    }\n",
       "</style>\n",
       "<table border=\"1\" class=\"dataframe\">\n",
       "  <thead>\n",
       "    <tr style=\"text-align: right;\">\n",
       "      <th></th>\n",
       "    </tr>\n",
       "  </thead>\n",
       "  <tbody>\n",
       "  </tbody>\n",
       "</table>\n",
       "</div>"
      ],
      "text/plain": [
       "Empty DataFrame\n",
       "Columns: []\n",
       "Index: []"
      ]
     },
     "execution_count": 15,
     "metadata": {},
     "output_type": "execute_result"
    }
   ],
   "source": [
    "sparql_query = \"\"\"\n",
    "PREFIX foaf: <http://xmlns.com/foaf/0.1/>\n",
    "PREFIX vCard: <http://www.w3.org/2001/vcard-rdf/3.0#>\n",
    "\n",
    "SELECT ?name\n",
    "WHERE\n",
    "{\n",
    "  ?x a foaf:Person .\n",
    "  OPTIONAL { ?x foaf:name ?name }\n",
    "  OPTIONAL { ?x vCard:FN  ?name }\n",
    "}\n",
    "\"\"\"\n",
    "\n",
    "qres = g.query(sparql_query)\n",
    "df = to_dataframe(qres)\n",
    "df"
   ]
  },
  {
   "cell_type": "markdown",
   "metadata": {},
   "source": [
    "If the first optional binds `?name` and `?x` to some values, the second OPTIONAL is an attempt to match the ground triples (`?x` and `?name` have values). If the first optional did not match the optional part, then the second one is an attempt to match its triple with two variables."
   ]
  },
  {
   "cell_type": "markdown",
   "metadata": {},
   "source": [
    "## Alternatives\n",
    "\n",
    "Another way of dealing with the semi-structured data is to query for one of a number of possibilities. This section covers UNION patterns, where one of a number of possibilities is tried."
   ]
  },
  {
   "cell_type": "markdown",
   "metadata": {},
   "source": [
    "### UNION - two ways to the same data\n",
    "\n",
    "Both the vCard vocabulary and the FOAF vocabulary have properties for people’s names.  In vCard, it is vCard:FN, the “formatted name”, and in FOAF, it is foaf:name. In this section, we will look at a small set of data where the names of people can be given by either the FOAF or the vCard vocabulary.\n",
    "\n",
    "Suppose we have an RDF graph that contains name information using both the vCard and FOAF vocabularies."
   ]
  },
  {
   "cell_type": "code",
   "execution_count": 16,
   "metadata": {},
   "outputs": [
    {
     "data": {
      "text/plain": [
       "<Graph identifier=N73c20b6fbcaa46aca88915aed1346c18 (<class 'rdflib.graph.Graph'>)>"
      ]
     },
     "execution_count": 16,
     "metadata": {},
     "output_type": "execute_result"
    }
   ],
   "source": [
    "rdf_data = \"\"\"\n",
    "@prefix foaf: <http://xmlns.com/foaf/0.1/> .\n",
    "@prefix vcard: <http://www.w3.org/2001/vcard-rdf/3.0#> .\n",
    "\n",
    "_:a foaf:name   \"Matt Jones\" .\n",
    "\n",
    "_:b foaf:name   \"Sarah Jones\" .\n",
    "\n",
    "_:c vcard:FN    \"Becky Smith\" .\n",
    "\n",
    "_:d vcard:FN    \"John Smith\" .\n",
    "\"\"\"\n",
    "\n",
    "g = rdflib.Graph()\n",
    "g.parse(format=\"turtle\", data=rdf_data)"
   ]
  },
  {
   "cell_type": "markdown",
   "metadata": {},
   "source": [
    "A query to access the name information, when it can be in either form, could return the results:"
   ]
  },
  {
   "cell_type": "code",
   "execution_count": 17,
   "metadata": {},
   "outputs": [
    {
     "data": {
      "text/html": [
       "<div>\n",
       "<style scoped>\n",
       "    .dataframe tbody tr th:only-of-type {\n",
       "        vertical-align: middle;\n",
       "    }\n",
       "\n",
       "    .dataframe tbody tr th {\n",
       "        vertical-align: top;\n",
       "    }\n",
       "\n",
       "    .dataframe thead th {\n",
       "        text-align: right;\n",
       "    }\n",
       "</style>\n",
       "<table border=\"1\" class=\"dataframe\">\n",
       "  <thead>\n",
       "    <tr style=\"text-align: right;\">\n",
       "      <th></th>\n",
       "      <th>name</th>\n",
       "    </tr>\n",
       "  </thead>\n",
       "  <tbody>\n",
       "    <tr>\n",
       "      <th>0</th>\n",
       "      <td>Matt Jones</td>\n",
       "    </tr>\n",
       "    <tr>\n",
       "      <th>1</th>\n",
       "      <td>Sarah Jones</td>\n",
       "    </tr>\n",
       "    <tr>\n",
       "      <th>2</th>\n",
       "      <td>Becky Smith</td>\n",
       "    </tr>\n",
       "    <tr>\n",
       "      <th>3</th>\n",
       "      <td>John Smith</td>\n",
       "    </tr>\n",
       "  </tbody>\n",
       "</table>\n",
       "</div>"
      ],
      "text/plain": [
       "          name\n",
       "0   Matt Jones\n",
       "1  Sarah Jones\n",
       "2  Becky Smith\n",
       "3   John Smith"
      ]
     },
     "execution_count": 17,
     "metadata": {},
     "output_type": "execute_result"
    }
   ],
   "source": [
    "sparql_query = \"\"\"\n",
    "PREFIX foaf: <http://xmlns.com/foaf/0.1/>\n",
    "PREFIX vCard: <http://www.w3.org/2001/vcard-rdf/3.0#>\n",
    "\n",
    "SELECT ?name\n",
    "WHERE\n",
    "{\n",
    "   { [] foaf:name ?name } UNION { [] vCard:FN ?name }\n",
    "}\n",
    "\"\"\"\n",
    "\n",
    "qres = g.query(sparql_query)\n",
    "df = to_dataframe(qres)\n",
    "df"
   ]
  },
  {
   "cell_type": "markdown",
   "metadata": {},
   "source": [
    "It didn’t matter which form of expression was used for the name, the `?name` variable is set. This can be achieved using a FILTER as this query shows:"
   ]
  },
  {
   "cell_type": "code",
   "execution_count": 18,
   "metadata": {},
   "outputs": [
    {
     "data": {
      "text/html": [
       "<div>\n",
       "<style scoped>\n",
       "    .dataframe tbody tr th:only-of-type {\n",
       "        vertical-align: middle;\n",
       "    }\n",
       "\n",
       "    .dataframe tbody tr th {\n",
       "        vertical-align: top;\n",
       "    }\n",
       "\n",
       "    .dataframe thead th {\n",
       "        text-align: right;\n",
       "    }\n",
       "</style>\n",
       "<table border=\"1\" class=\"dataframe\">\n",
       "  <thead>\n",
       "    <tr style=\"text-align: right;\">\n",
       "      <th></th>\n",
       "      <th>name</th>\n",
       "    </tr>\n",
       "  </thead>\n",
       "  <tbody>\n",
       "    <tr>\n",
       "      <th>0</th>\n",
       "      <td>Becky Smith</td>\n",
       "    </tr>\n",
       "    <tr>\n",
       "      <th>1</th>\n",
       "      <td>Matt Jones</td>\n",
       "    </tr>\n",
       "    <tr>\n",
       "      <th>2</th>\n",
       "      <td>John Smith</td>\n",
       "    </tr>\n",
       "    <tr>\n",
       "      <th>3</th>\n",
       "      <td>Sarah Jones</td>\n",
       "    </tr>\n",
       "  </tbody>\n",
       "</table>\n",
       "</div>"
      ],
      "text/plain": [
       "          name\n",
       "0  Becky Smith\n",
       "1   Matt Jones\n",
       "2   John Smith\n",
       "3  Sarah Jones"
      ]
     },
     "execution_count": 18,
     "metadata": {},
     "output_type": "execute_result"
    }
   ],
   "source": [
    "sparql_query = \"\"\"\n",
    "PREFIX foaf: <http://xmlns.com/foaf/0.1/>\n",
    "PREFIX vCard: <http://www.w3.org/2001/vcard-rdf/3.0#>\n",
    "\n",
    "SELECT ?name\n",
    "WHERE\n",
    "{\n",
    "  [] ?p ?name\n",
    "  FILTER ( ?p = foaf:name || ?p = vCard:FN )\n",
    "}\n",
    "\"\"\"\n",
    "\n",
    "qres = g.query(sparql_query)\n",
    "df = to_dataframe(qres)\n",
    "df"
   ]
  },
  {
   "cell_type": "markdown",
   "metadata": {},
   "source": [
    "testing whether the property is one URI or another. The solutions may not come out in the same order.  The first form is more likely to be faster, depending on the data and the storage used, because the second form may have to get all the triples from the graph to match the triple pattern with unbound variables (or blank nodes) in each slot, then test each ?p to see if it matches one of the values. It will depend on the sophistication of the query optimizer as to whether it spots that it can perform the query more efficiently and is able to pass the constraint down as well as to the storage layer."
   ]
  },
  {
   "cell_type": "markdown",
   "metadata": {},
   "source": [
    "### UNION - remembering where the data was found.\n",
    "\n",
    "The example above used the same variable in each branch. If different variables are used, the application can discover which sub-pattern caused the match:"
   ]
  },
  {
   "cell_type": "code",
   "execution_count": 19,
   "metadata": {},
   "outputs": [
    {
     "data": {
      "text/html": [
       "<div>\n",
       "<style scoped>\n",
       "    .dataframe tbody tr th:only-of-type {\n",
       "        vertical-align: middle;\n",
       "    }\n",
       "\n",
       "    .dataframe tbody tr th {\n",
       "        vertical-align: top;\n",
       "    }\n",
       "\n",
       "    .dataframe thead th {\n",
       "        text-align: right;\n",
       "    }\n",
       "</style>\n",
       "<table border=\"1\" class=\"dataframe\">\n",
       "  <thead>\n",
       "    <tr style=\"text-align: right;\">\n",
       "      <th></th>\n",
       "      <th>name1</th>\n",
       "      <th>name2</th>\n",
       "    </tr>\n",
       "  </thead>\n",
       "  <tbody>\n",
       "    <tr>\n",
       "      <th>0</th>\n",
       "      <td>Matt Jones</td>\n",
       "      <td>NaN</td>\n",
       "    </tr>\n",
       "    <tr>\n",
       "      <th>1</th>\n",
       "      <td>Sarah Jones</td>\n",
       "      <td>NaN</td>\n",
       "    </tr>\n",
       "    <tr>\n",
       "      <th>2</th>\n",
       "      <td>NaN</td>\n",
       "      <td>Becky Smith</td>\n",
       "    </tr>\n",
       "    <tr>\n",
       "      <th>3</th>\n",
       "      <td>NaN</td>\n",
       "      <td>John Smith</td>\n",
       "    </tr>\n",
       "  </tbody>\n",
       "</table>\n",
       "</div>"
      ],
      "text/plain": [
       "         name1        name2\n",
       "0   Matt Jones          NaN\n",
       "1  Sarah Jones          NaN\n",
       "2          NaN  Becky Smith\n",
       "3          NaN   John Smith"
      ]
     },
     "execution_count": 19,
     "metadata": {},
     "output_type": "execute_result"
    }
   ],
   "source": [
    "sparql_query = \"\"\"\n",
    "PREFIX foaf: <http://xmlns.com/foaf/0.1/>\n",
    "PREFIX vCard: <http://www.w3.org/2001/vcard-rdf/3.0#>\n",
    "\n",
    "SELECT ?name1 ?name2\n",
    "WHERE\n",
    "{\n",
    "   { [] foaf:name ?name1 } UNION { [] vCard:FN ?name2 }\n",
    "}\n",
    "\"\"\"\n",
    "\n",
    "qres = g.query(sparql_query)\n",
    "df = to_dataframe(qres)\n",
    "df"
   ]
  },
  {
   "cell_type": "markdown",
   "metadata": {},
   "source": [
    "This second query has retained information of where the name of the person came from by assigning the name to different variables."
   ]
  },
  {
   "cell_type": "markdown",
   "metadata": {},
   "source": [
    "### OPTIONAL and UNION\n",
    "\n",
    "n practice, OPTIONAL is more common than UNION but they both have their uses. OPTIONAL are useful for augmenting the solutions found, UNION is useful for concatenating the solutions from two possibilities. They don’t necessary return the information in the same way:"
   ]
  },
  {
   "cell_type": "code",
   "execution_count": 20,
   "metadata": {},
   "outputs": [
    {
     "data": {
      "text/html": [
       "<div>\n",
       "<style scoped>\n",
       "    .dataframe tbody tr th:only-of-type {\n",
       "        vertical-align: middle;\n",
       "    }\n",
       "\n",
       "    .dataframe tbody tr th {\n",
       "        vertical-align: top;\n",
       "    }\n",
       "\n",
       "    .dataframe thead th {\n",
       "        text-align: right;\n",
       "    }\n",
       "</style>\n",
       "<table border=\"1\" class=\"dataframe\">\n",
       "  <thead>\n",
       "    <tr style=\"text-align: right;\">\n",
       "      <th></th>\n",
       "    </tr>\n",
       "  </thead>\n",
       "  <tbody>\n",
       "  </tbody>\n",
       "</table>\n",
       "</div>"
      ],
      "text/plain": [
       "Empty DataFrame\n",
       "Columns: []\n",
       "Index: []"
      ]
     },
     "execution_count": 20,
     "metadata": {},
     "output_type": "execute_result"
    }
   ],
   "source": [
    "sparql_query = \"\"\"\n",
    "PREFIX foaf: <http://xmlns.com/foaf/0.1/>\n",
    "PREFIX vCard: <http://www.w3.org/2001/vcard-rdf/3.0#>\n",
    "\n",
    "SELECT ?name1 ?name2\n",
    "WHERE\n",
    "{\n",
    "  ?x a foaf:Person\n",
    "  OPTIONAL { ?x  foaf:name  ?name1 }\n",
    "  OPTIONAL { ?x  vCard:FN   ?name2 }\n",
    "}\n",
    "\"\"\"\n",
    "\n",
    "qres = g.query(sparql_query)\n",
    "df = to_dataframe(qres)\n",
    "df"
   ]
  },
  {
   "cell_type": "markdown",
   "metadata": {},
   "source": [
    "but beware of using ?name in each OPTIONAL because that is an order-dependent query."
   ]
  },
  {
   "cell_type": "markdown",
   "metadata": {},
   "source": [
    "## Named Graphs\n",
    "\n",
    "_Work-in-progress! rfdlib calls these Conjunctive Graphs, but I haven't quite cracked the pathing or the data reads yet._\n",
    "\n",
    "This section covers RDF Datasets - an RDF Dataset is the unit that is queried by a SPARQL query. It consists of a default graph, and a number of named graphs."
   ]
  },
  {
   "cell_type": "markdown",
   "metadata": {},
   "source": [
    "### Querying datasets\n",
    "The graph matching operation (basic patterns, OPTIONALs, and UNIONs) work on one RDF graph.  This starts out being the default graph of the dataset but it can be changed by the GRAPH keyword.\n",
    "\n",
    "```\n",
    "GRAPH uri { ... pattern ... }\n",
    "\n",
    "GRAPH var { ... pattern ... }\n",
    "```\n",
    "\n",
    "If a URI is given, the pattern will be matched against the graph in the dataset with that name - if there isn’t one, the GRAPH clause fails to match at all.\n",
    "\n",
    "If a variable is given, all the named graphs (not the default graph) are tried.  The variable may be used elsewhere so that if, during execution, its value is already known for a solution, only the specific named graph is tried."
   ]
  },
  {
   "cell_type": "markdown",
   "metadata": {},
   "source": [
    "#### Example Data\n",
    "An RDF dataset can take a variety of forms.  Two common setups are to have the default graph being the union (the RDF merge) of all the named graphs or to have the default graph be an inventory of the named graphs (where they came from, when they were read etc).  There are no limitations - one graph can be included twice under different names, or some graphs may share triples with others.\n",
    "\n",
    "In the examples below we will use the following dataset that might occur for an RDF aggregator of book details:"
   ]
  },
  {
   "cell_type": "markdown",
   "metadata": {},
   "source": [
    "##### Named Graph #1"
   ]
  },
  {
   "cell_type": "code",
   "execution_count": 21,
   "metadata": {},
   "outputs": [
    {
     "data": {
      "text/plain": [
       "<Graph identifier=Nff391fb6480c49c384523dc28930e11f (<class 'rdflib.graph.Graph'>)>"
      ]
     },
     "execution_count": 21,
     "metadata": {},
     "output_type": "execute_result"
    }
   ],
   "source": [
    "named1_data = \"\"\"\n",
    "@prefix dc: <http://purl.org/dc/elements/1.1/> .\n",
    "\n",
    "[] dc:title \"Harry Potter and the Philospher's Stone\" .\n",
    "[] dc:title \"Harry Potter and the Chamber of Secrets\" .\n",
    "\"\"\"\n",
    "\n",
    "g1 = rdflib.Graph()\n",
    "g1.parse(format=\"turtle\", data=named1_data)"
   ]
  },
  {
   "cell_type": "markdown",
   "metadata": {},
   "source": [
    "##### Named Graph #2"
   ]
  },
  {
   "cell_type": "code",
   "execution_count": 22,
   "metadata": {},
   "outputs": [
    {
     "data": {
      "text/plain": [
       "<Graph identifier=N15fbd361071e4e5f95beab0d8ace61f5 (<class 'rdflib.graph.Graph'>)>"
      ]
     },
     "execution_count": 22,
     "metadata": {},
     "output_type": "execute_result"
    }
   ],
   "source": [
    "named2_data = \"\"\"\n",
    "@prefix dc: <http://purl.org/dc/elements/1.1/> .\n",
    "\n",
    "[] dc:title \"Harry Potter and the Sorcerer's Stone\" .\n",
    "[] dc:title \"Harry Potter and the Chamber of Secrets\" .\n",
    "\"\"\"\n",
    "\n",
    "g2 = rdflib.Graph()\n",
    "g2.parse(format=\"turtle\", data=named2_data)"
   ]
  },
  {
   "cell_type": "markdown",
   "metadata": {},
   "source": [
    "##### Default graph"
   ]
  },
  {
   "cell_type": "code",
   "execution_count": 23,
   "metadata": {},
   "outputs": [
    {
     "data": {
      "text/plain": [
       "<Graph identifier=Ne559da47edec41a0a806db2ff2010690 (<class 'rdflib.graph.Graph'>)>"
      ]
     },
     "execution_count": 23,
     "metadata": {},
     "output_type": "execute_result"
    }
   ],
   "source": [
    "default_data = \"\"\"\n",
    "@prefix dc: <http://purl.org/dc/elements/1.1/> .\n",
    "@prefix xsd: <http://www.w3.org/2001/XMLSchema#> .\n",
    "\n",
    "<resources/ds-ng-1.ttl> dc:date \"2005-07-14T03:18:56+0100\"^^xsd:dateTime .\n",
    "<resources/ds-ng-2.ttl> dc:date \"2005-09-22T05:53:05+0100\"^^xsd:dateTime .\n",
    "\"\"\"\n",
    "\n",
    "g = rdflib.ConjunctiveGraph()\n",
    "g.parse(format=\"turtle\", data=default_data)"
   ]
  },
  {
   "cell_type": "markdown",
   "metadata": {},
   "source": [
    "### Accessing the Dataset\n",
    "\n",
    "The first example just accesses the default graph.\n",
    "\n",
    "This is the default graph only - nothing from the named graphs because they aren’t queried unless explicitly indicated via GRAPH."
   ]
  },
  {
   "cell_type": "code",
   "execution_count": 24,
   "metadata": {},
   "outputs": [
    {
     "data": {
      "text/html": [
       "<div>\n",
       "<style scoped>\n",
       "    .dataframe tbody tr th:only-of-type {\n",
       "        vertical-align: middle;\n",
       "    }\n",
       "\n",
       "    .dataframe tbody tr th {\n",
       "        vertical-align: top;\n",
       "    }\n",
       "\n",
       "    .dataframe thead th {\n",
       "        text-align: right;\n",
       "    }\n",
       "</style>\n",
       "<table border=\"1\" class=\"dataframe\">\n",
       "  <thead>\n",
       "    <tr style=\"text-align: right;\">\n",
       "      <th></th>\n",
       "      <th>p</th>\n",
       "      <th>s</th>\n",
       "      <th>o</th>\n",
       "    </tr>\n",
       "  </thead>\n",
       "  <tbody>\n",
       "    <tr>\n",
       "      <th>0</th>\n",
       "      <td>http://purl.org/dc/elements/1.1/date</td>\n",
       "      <td>file:///C:/Work/sparql_tutorial/resources/ds-n...</td>\n",
       "      <td>2005-09-22T05:53:05+01:00</td>\n",
       "    </tr>\n",
       "    <tr>\n",
       "      <th>1</th>\n",
       "      <td>http://purl.org/dc/elements/1.1/date</td>\n",
       "      <td>file:///C:/Work/sparql_tutorial/resources/ds-n...</td>\n",
       "      <td>2005-07-14T03:18:56+01:00</td>\n",
       "    </tr>\n",
       "  </tbody>\n",
       "</table>\n",
       "</div>"
      ],
      "text/plain": [
       "                                      p  \\\n",
       "0  http://purl.org/dc/elements/1.1/date   \n",
       "1  http://purl.org/dc/elements/1.1/date   \n",
       "\n",
       "                                                   s  \\\n",
       "0  file:///C:/Work/sparql_tutorial/resources/ds-n...   \n",
       "1  file:///C:/Work/sparql_tutorial/resources/ds-n...   \n",
       "\n",
       "                           o  \n",
       "0  2005-09-22T05:53:05+01:00  \n",
       "1  2005-07-14T03:18:56+01:00  "
      ]
     },
     "execution_count": 24,
     "metadata": {},
     "output_type": "execute_result"
    }
   ],
   "source": [
    "sparql_query = \"\"\"\n",
    "PREFIX xsd: <http://www.w3.org/2001/XMLSchema#>\n",
    "PREFIX dc: <http://purl.org/dc/elements/1.1/>\n",
    "PREFIX : <.>\n",
    "\n",
    "SELECT *\n",
    "{ ?s ?p ?o }\n",
    "\"\"\"\n",
    "\n",
    "qres = g.query(sparql_query)\n",
    "df = to_dataframe(qres)\n",
    "df"
   ]
  },
  {
   "cell_type": "markdown",
   "metadata": {},
   "source": [
    "We can query for all triples by querying the default graph and the named graphs giving:"
   ]
  },
  {
   "cell_type": "code",
   "execution_count": 25,
   "metadata": {},
   "outputs": [
    {
     "data": {
      "text/html": [
       "<div>\n",
       "<style scoped>\n",
       "    .dataframe tbody tr th:only-of-type {\n",
       "        vertical-align: middle;\n",
       "    }\n",
       "\n",
       "    .dataframe tbody tr th {\n",
       "        vertical-align: top;\n",
       "    }\n",
       "\n",
       "    .dataframe thead th {\n",
       "        text-align: right;\n",
       "    }\n",
       "</style>\n",
       "<table border=\"1\" class=\"dataframe\">\n",
       "  <thead>\n",
       "    <tr style=\"text-align: right;\">\n",
       "      <th></th>\n",
       "      <th>p</th>\n",
       "      <th>s</th>\n",
       "      <th>o</th>\n",
       "      <th>g</th>\n",
       "    </tr>\n",
       "  </thead>\n",
       "  <tbody>\n",
       "    <tr>\n",
       "      <th>0</th>\n",
       "      <td>http://purl.org/dc/elements/1.1/date</td>\n",
       "      <td>file:///C:/Work/sparql_tutorial/resources/ds-n...</td>\n",
       "      <td>2005-09-22T05:53:05+01:00</td>\n",
       "      <td>NaN</td>\n",
       "    </tr>\n",
       "    <tr>\n",
       "      <th>1</th>\n",
       "      <td>http://purl.org/dc/elements/1.1/date</td>\n",
       "      <td>file:///C:/Work/sparql_tutorial/resources/ds-n...</td>\n",
       "      <td>2005-07-14T03:18:56+01:00</td>\n",
       "      <td>NaN</td>\n",
       "    </tr>\n",
       "    <tr>\n",
       "      <th>2</th>\n",
       "      <td>http://purl.org/dc/elements/1.1/date</td>\n",
       "      <td>file:///C:/Work/sparql_tutorial/resources/ds-n...</td>\n",
       "      <td>2005-09-22T05:53:05+01:00</td>\n",
       "      <td>Ne559da47edec41a0a806db2ff2010690</td>\n",
       "    </tr>\n",
       "    <tr>\n",
       "      <th>3</th>\n",
       "      <td>http://purl.org/dc/elements/1.1/date</td>\n",
       "      <td>file:///C:/Work/sparql_tutorial/resources/ds-n...</td>\n",
       "      <td>2005-07-14T03:18:56+01:00</td>\n",
       "      <td>Ne559da47edec41a0a806db2ff2010690</td>\n",
       "    </tr>\n",
       "  </tbody>\n",
       "</table>\n",
       "</div>"
      ],
      "text/plain": [
       "                                      p  \\\n",
       "0  http://purl.org/dc/elements/1.1/date   \n",
       "1  http://purl.org/dc/elements/1.1/date   \n",
       "2  http://purl.org/dc/elements/1.1/date   \n",
       "3  http://purl.org/dc/elements/1.1/date   \n",
       "\n",
       "                                                   s  \\\n",
       "0  file:///C:/Work/sparql_tutorial/resources/ds-n...   \n",
       "1  file:///C:/Work/sparql_tutorial/resources/ds-n...   \n",
       "2  file:///C:/Work/sparql_tutorial/resources/ds-n...   \n",
       "3  file:///C:/Work/sparql_tutorial/resources/ds-n...   \n",
       "\n",
       "                           o                                  g  \n",
       "0  2005-09-22T05:53:05+01:00                                NaN  \n",
       "1  2005-07-14T03:18:56+01:00                                NaN  \n",
       "2  2005-09-22T05:53:05+01:00  Ne559da47edec41a0a806db2ff2010690  \n",
       "3  2005-07-14T03:18:56+01:00  Ne559da47edec41a0a806db2ff2010690  "
      ]
     },
     "execution_count": 25,
     "metadata": {},
     "output_type": "execute_result"
    }
   ],
   "source": [
    "sparql_query = \"\"\"\n",
    "PREFIX  xsd:    <http://www.w3.org/2001/XMLSchema#>\n",
    "PREFIX  dc:     <http://purl.org/dc/elements/1.1/>\n",
    "PREFIX  :       <.>\n",
    "\n",
    "SELECT *\n",
    "{\n",
    "    { ?s ?p ?o } UNION { GRAPH ?g { ?s ?p ?o } }\n",
    "}\n",
    "\"\"\"\n",
    "\n",
    "qres = g.query(sparql_query)\n",
    "df = to_dataframe(qres)\n",
    "df"
   ]
  },
  {
   "cell_type": "markdown",
   "metadata": {},
   "source": [
    "#### Querying a specific graph\n",
    "If the application knows the name graph, it can directly ask a query such as finding all the titles in a given graph "
   ]
  },
  {
   "cell_type": "code",
   "execution_count": 26,
   "metadata": {},
   "outputs": [
    {
     "data": {
      "text/html": [
       "<div>\n",
       "<style scoped>\n",
       "    .dataframe tbody tr th:only-of-type {\n",
       "        vertical-align: middle;\n",
       "    }\n",
       "\n",
       "    .dataframe tbody tr th {\n",
       "        vertical-align: top;\n",
       "    }\n",
       "\n",
       "    .dataframe thead th {\n",
       "        text-align: right;\n",
       "    }\n",
       "</style>\n",
       "<table border=\"1\" class=\"dataframe\">\n",
       "  <thead>\n",
       "    <tr style=\"text-align: right;\">\n",
       "      <th></th>\n",
       "    </tr>\n",
       "  </thead>\n",
       "  <tbody>\n",
       "  </tbody>\n",
       "</table>\n",
       "</div>"
      ],
      "text/plain": [
       "Empty DataFrame\n",
       "Columns: []\n",
       "Index: []"
      ]
     },
     "execution_count": 26,
     "metadata": {},
     "output_type": "execute_result"
    }
   ],
   "source": [
    "sparql_query = \"\"\"\n",
    "PREFIX dc: <http://purl.org/dc/elements/1.1/>\n",
    "PREFIX : <.>\n",
    "\n",
    "SELECT ?title\n",
    "{\n",
    "  GRAPH :ds-ng-2.ttl\n",
    "    { ?b dc:title ?title }\n",
    "}\n",
    "\"\"\"\n",
    "\n",
    "qres = g.query(sparql_query)\n",
    "df = to_dataframe(qres)\n",
    "df"
   ]
  },
  {
   "cell_type": "markdown",
   "metadata": {},
   "source": [
    "#### Querying to find data from graphs that match a pattern\n",
    "The name of the graphs to be queried can be determined with the query itself. The same process for variables applies whether they are part of a graph pattern or the GRAPH form. The query below sets a condition on the variable used to select named graphs, based on information in the default graph.\n",
    "\n",
    "The results of executing this query on the example dataset are the titles in one of the graphs, the one with the date later than 1 August 2005."
   ]
  },
  {
   "cell_type": "code",
   "execution_count": 27,
   "metadata": {},
   "outputs": [
    {
     "data": {
      "text/html": [
       "<div>\n",
       "<style scoped>\n",
       "    .dataframe tbody tr th:only-of-type {\n",
       "        vertical-align: middle;\n",
       "    }\n",
       "\n",
       "    .dataframe tbody tr th {\n",
       "        vertical-align: top;\n",
       "    }\n",
       "\n",
       "    .dataframe thead th {\n",
       "        text-align: right;\n",
       "    }\n",
       "</style>\n",
       "<table border=\"1\" class=\"dataframe\">\n",
       "  <thead>\n",
       "    <tr style=\"text-align: right;\">\n",
       "      <th></th>\n",
       "    </tr>\n",
       "  </thead>\n",
       "  <tbody>\n",
       "  </tbody>\n",
       "</table>\n",
       "</div>"
      ],
      "text/plain": [
       "Empty DataFrame\n",
       "Columns: []\n",
       "Index: []"
      ]
     },
     "execution_count": 27,
     "metadata": {},
     "output_type": "execute_result"
    }
   ],
   "source": [
    "sparql_query = \"\"\"\n",
    "PREFIX  xsd:    <http://www.w3.org/2001/XMLSchema#>\n",
    "PREFIX  dc:     <http://purl.org/dc/elements/1.1/>\n",
    "PREFIX  :       <.>\n",
    "\n",
    "SELECT ?date ?title\n",
    "{\n",
    "  ?g dc:date ?date . FILTER (?date > \"2005-08-01T00:00:00Z\"^^xsd:dateTime )\n",
    "  GRAPH ?g\n",
    "      { ?b dc:title ?title }\n",
    "}\n",
    "\"\"\"\n",
    "\n",
    "qres = g.query(sparql_query)\n",
    "df = to_dataframe(qres)\n",
    "df"
   ]
  },
  {
   "cell_type": "markdown",
   "metadata": {},
   "source": [
    "### Describing RDF Datasets - FROM and FROM NAMED\n",
    "\n",
    "A query execution can be given the dataset when the execution object is built or it can be described in the query itself. When the details are on the command line, a temporary dataset is created but an application can create datasets and then use them in many queries.\n",
    "\n",
    "When described in the query, FROM <url> is used to identify the contents to be in the default graph. There can be more than one FROM clause and the default graph is result of reading each file into the default graph. It is the RDF merge of the individual graphs.\n",
    "\n",
    "Don’t be confused by the fact the default graph is described by one or more URLs in FROM clauses. This is where the data is read from, not the name of the graph. As several FROM clauses can be given, the data can be read in from several places but none of them become the graph name.\n",
    "\n",
    "FROM NAMED <url> is used to identify a named graph. The graph is given the name url and the data is read from that location. Multiple FROM NAMED clauses cause multiple graphs to be added to the dataset.\n",
    "\n",
    "Note that graphs are loaded with the Jena FileManager which includes the ability to provide alternative locations for files. For example, the query may have FROM NAMED <http://example/data>, and the data actually be read from file:local.rdf. The name of the graph will be http://example/data\\ as in the query.\n",
    "\n",
    "For example, the query to find all the triples in both default graph and named graphs could be written as (q-ds-5.rq):"
   ]
  },
  {
   "cell_type": "code",
   "execution_count": 28,
   "metadata": {},
   "outputs": [
    {
     "data": {
      "text/html": [
       "<div>\n",
       "<style scoped>\n",
       "    .dataframe tbody tr th:only-of-type {\n",
       "        vertical-align: middle;\n",
       "    }\n",
       "\n",
       "    .dataframe tbody tr th {\n",
       "        vertical-align: top;\n",
       "    }\n",
       "\n",
       "    .dataframe thead th {\n",
       "        text-align: right;\n",
       "    }\n",
       "</style>\n",
       "<table border=\"1\" class=\"dataframe\">\n",
       "  <thead>\n",
       "    <tr style=\"text-align: right;\">\n",
       "      <th></th>\n",
       "      <th>p</th>\n",
       "      <th>s</th>\n",
       "      <th>o</th>\n",
       "      <th>g</th>\n",
       "    </tr>\n",
       "  </thead>\n",
       "  <tbody>\n",
       "    <tr>\n",
       "      <th>0</th>\n",
       "      <td>http://purl.org/dc/elements/1.1/title</td>\n",
       "      <td>n6a15e8d4417042e5a207da6a6f0e2055b2</td>\n",
       "      <td>Harry Potter and the Chamber of Secrets</td>\n",
       "      <td>NaN</td>\n",
       "    </tr>\n",
       "    <tr>\n",
       "      <th>1</th>\n",
       "      <td>http://purl.org/dc/elements/1.1/date</td>\n",
       "      <td>file:///C:/Work/sparql_tutorial/resources/ds-n...</td>\n",
       "      <td>2005-09-22T05:53:05+01:00</td>\n",
       "      <td>NaN</td>\n",
       "    </tr>\n",
       "    <tr>\n",
       "      <th>2</th>\n",
       "      <td>http://purl.org/dc/elements/1.1/title</td>\n",
       "      <td>n6a15e8d4417042e5a207da6a6f0e2055b1</td>\n",
       "      <td>Harry Potter and the Sorcerer's Stone</td>\n",
       "      <td>NaN</td>\n",
       "    </tr>\n",
       "    <tr>\n",
       "      <th>3</th>\n",
       "      <td>http://purl.org/dc/elements/1.1/title</td>\n",
       "      <td>n67e56208b43049a78768ed5a1937bebfb1</td>\n",
       "      <td>Harry Potter and the Philospher's Stone</td>\n",
       "      <td>NaN</td>\n",
       "    </tr>\n",
       "    <tr>\n",
       "      <th>4</th>\n",
       "      <td>http://purl.org/dc/elements/1.1/date</td>\n",
       "      <td>file:///C:/Work/sparql_tutorial/resources/ds-n...</td>\n",
       "      <td>2005-07-14T03:18:56+01:00</td>\n",
       "      <td>NaN</td>\n",
       "    </tr>\n",
       "    <tr>\n",
       "      <th>5</th>\n",
       "      <td>http://purl.org/dc/elements/1.1/title</td>\n",
       "      <td>n67e56208b43049a78768ed5a1937bebfb2</td>\n",
       "      <td>Harry Potter and the Chamber of Secrets</td>\n",
       "      <td>NaN</td>\n",
       "    </tr>\n",
       "    <tr>\n",
       "      <th>6</th>\n",
       "      <td>http://purl.org/dc/elements/1.1/title</td>\n",
       "      <td>n6a15e8d4417042e5a207da6a6f0e2055b1</td>\n",
       "      <td>Harry Potter and the Sorcerer's Stone</td>\n",
       "      <td>file:///C:/Work/sparql_tutorial/resources/ds-n...</td>\n",
       "    </tr>\n",
       "    <tr>\n",
       "      <th>7</th>\n",
       "      <td>http://purl.org/dc/elements/1.1/title</td>\n",
       "      <td>n6a15e8d4417042e5a207da6a6f0e2055b2</td>\n",
       "      <td>Harry Potter and the Chamber of Secrets</td>\n",
       "      <td>file:///C:/Work/sparql_tutorial/resources/ds-n...</td>\n",
       "    </tr>\n",
       "    <tr>\n",
       "      <th>8</th>\n",
       "      <td>http://purl.org/dc/elements/1.1/title</td>\n",
       "      <td>n67e56208b43049a78768ed5a1937bebfb1</td>\n",
       "      <td>Harry Potter and the Philospher's Stone</td>\n",
       "      <td>file:///C:/Work/sparql_tutorial/resources/ds-n...</td>\n",
       "    </tr>\n",
       "    <tr>\n",
       "      <th>9</th>\n",
       "      <td>http://purl.org/dc/elements/1.1/title</td>\n",
       "      <td>n67e56208b43049a78768ed5a1937bebfb2</td>\n",
       "      <td>Harry Potter and the Chamber of Secrets</td>\n",
       "      <td>file:///C:/Work/sparql_tutorial/resources/ds-n...</td>\n",
       "    </tr>\n",
       "    <tr>\n",
       "      <th>10</th>\n",
       "      <td>http://purl.org/dc/elements/1.1/date</td>\n",
       "      <td>file:///C:/Work/sparql_tutorial/resources/ds-n...</td>\n",
       "      <td>2005-09-22T05:53:05+01:00</td>\n",
       "      <td>file:///C:/Work/sparql_tutorial/resources/ds-d...</td>\n",
       "    </tr>\n",
       "    <tr>\n",
       "      <th>11</th>\n",
       "      <td>http://purl.org/dc/elements/1.1/date</td>\n",
       "      <td>file:///C:/Work/sparql_tutorial/resources/ds-n...</td>\n",
       "      <td>2005-07-14T03:18:56+01:00</td>\n",
       "      <td>file:///C:/Work/sparql_tutorial/resources/ds-d...</td>\n",
       "    </tr>\n",
       "    <tr>\n",
       "      <th>12</th>\n",
       "      <td>http://purl.org/dc/elements/1.1/date</td>\n",
       "      <td>file:///C:/Work/sparql_tutorial/resources/ds-n...</td>\n",
       "      <td>2005-09-22T05:53:05+01:00</td>\n",
       "      <td>Ne559da47edec41a0a806db2ff2010690</td>\n",
       "    </tr>\n",
       "    <tr>\n",
       "      <th>13</th>\n",
       "      <td>http://purl.org/dc/elements/1.1/date</td>\n",
       "      <td>file:///C:/Work/sparql_tutorial/resources/ds-n...</td>\n",
       "      <td>2005-07-14T03:18:56+01:00</td>\n",
       "      <td>Ne559da47edec41a0a806db2ff2010690</td>\n",
       "    </tr>\n",
       "  </tbody>\n",
       "</table>\n",
       "</div>"
      ],
      "text/plain": [
       "                                        p  \\\n",
       "0   http://purl.org/dc/elements/1.1/title   \n",
       "1    http://purl.org/dc/elements/1.1/date   \n",
       "2   http://purl.org/dc/elements/1.1/title   \n",
       "3   http://purl.org/dc/elements/1.1/title   \n",
       "4    http://purl.org/dc/elements/1.1/date   \n",
       "5   http://purl.org/dc/elements/1.1/title   \n",
       "6   http://purl.org/dc/elements/1.1/title   \n",
       "7   http://purl.org/dc/elements/1.1/title   \n",
       "8   http://purl.org/dc/elements/1.1/title   \n",
       "9   http://purl.org/dc/elements/1.1/title   \n",
       "10   http://purl.org/dc/elements/1.1/date   \n",
       "11   http://purl.org/dc/elements/1.1/date   \n",
       "12   http://purl.org/dc/elements/1.1/date   \n",
       "13   http://purl.org/dc/elements/1.1/date   \n",
       "\n",
       "                                                    s  \\\n",
       "0                 n6a15e8d4417042e5a207da6a6f0e2055b2   \n",
       "1   file:///C:/Work/sparql_tutorial/resources/ds-n...   \n",
       "2                 n6a15e8d4417042e5a207da6a6f0e2055b1   \n",
       "3                 n67e56208b43049a78768ed5a1937bebfb1   \n",
       "4   file:///C:/Work/sparql_tutorial/resources/ds-n...   \n",
       "5                 n67e56208b43049a78768ed5a1937bebfb2   \n",
       "6                 n6a15e8d4417042e5a207da6a6f0e2055b1   \n",
       "7                 n6a15e8d4417042e5a207da6a6f0e2055b2   \n",
       "8                 n67e56208b43049a78768ed5a1937bebfb1   \n",
       "9                 n67e56208b43049a78768ed5a1937bebfb2   \n",
       "10  file:///C:/Work/sparql_tutorial/resources/ds-n...   \n",
       "11  file:///C:/Work/sparql_tutorial/resources/ds-n...   \n",
       "12  file:///C:/Work/sparql_tutorial/resources/ds-n...   \n",
       "13  file:///C:/Work/sparql_tutorial/resources/ds-n...   \n",
       "\n",
       "                                          o  \\\n",
       "0   Harry Potter and the Chamber of Secrets   \n",
       "1                 2005-09-22T05:53:05+01:00   \n",
       "2     Harry Potter and the Sorcerer's Stone   \n",
       "3   Harry Potter and the Philospher's Stone   \n",
       "4                 2005-07-14T03:18:56+01:00   \n",
       "5   Harry Potter and the Chamber of Secrets   \n",
       "6     Harry Potter and the Sorcerer's Stone   \n",
       "7   Harry Potter and the Chamber of Secrets   \n",
       "8   Harry Potter and the Philospher's Stone   \n",
       "9   Harry Potter and the Chamber of Secrets   \n",
       "10                2005-09-22T05:53:05+01:00   \n",
       "11                2005-07-14T03:18:56+01:00   \n",
       "12                2005-09-22T05:53:05+01:00   \n",
       "13                2005-07-14T03:18:56+01:00   \n",
       "\n",
       "                                                    g  \n",
       "0                                                 NaN  \n",
       "1                                                 NaN  \n",
       "2                                                 NaN  \n",
       "3                                                 NaN  \n",
       "4                                                 NaN  \n",
       "5                                                 NaN  \n",
       "6   file:///C:/Work/sparql_tutorial/resources/ds-n...  \n",
       "7   file:///C:/Work/sparql_tutorial/resources/ds-n...  \n",
       "8   file:///C:/Work/sparql_tutorial/resources/ds-n...  \n",
       "9   file:///C:/Work/sparql_tutorial/resources/ds-n...  \n",
       "10  file:///C:/Work/sparql_tutorial/resources/ds-d...  \n",
       "11  file:///C:/Work/sparql_tutorial/resources/ds-d...  \n",
       "12                  Ne559da47edec41a0a806db2ff2010690  \n",
       "13                  Ne559da47edec41a0a806db2ff2010690  "
      ]
     },
     "execution_count": 28,
     "metadata": {},
     "output_type": "execute_result"
    }
   ],
   "source": [
    "sparql_query = \"\"\"\n",
    "PREFIX xsd: <http://www.w3.org/2001/XMLSchema#>\n",
    "PREFIX dc:  <http://purl.org/dc/elements/1.1/>\n",
    "PREFIX :    <.>\n",
    "\n",
    "SELECT *\n",
    "FROM       <resources/ds-dft.ttl>\n",
    "FROM NAMED <resources/ds-ng-1.ttl>\n",
    "FROM NAMED <resources/ds-ng-2.ttl>\n",
    "{\n",
    "   { ?s ?p ?o } UNION { GRAPH ?g { ?s ?p ?o } }\n",
    "}\n",
    "\"\"\"\n",
    "\n",
    "qres = g.query(sparql_query)\n",
    "df = to_dataframe(qres)\n",
    "df"
   ]
  },
  {
   "cell_type": "markdown",
   "metadata": {},
   "source": [
    "## Producing Result Sets\n",
    "\n",
    "SPARQL has four result forms:\n",
    "\n",
    "* SELECT – Return a table of results.\n",
    "* CONSTRUCT – Return an RDF graph, based on a template in the query.\n",
    "* DESCRIBE – Return an RDF graph, based on what the query processor is configured to return.\n",
    "* ASK – Ask a boolean query.\n",
    "\n",
    "The SELECT form directly returns a table of solutions as a result set, while DESCRIBE and CONSTRUCT use the outcome of matching to build RDF graphs.\n",
    "\n",
    "### Solution Modifiers\n",
    "Pattern matching produces a set of solutions. This set can be modified in various ways:\n",
    "\n",
    "Projection - keep only selected variables\n",
    "OFFSET/LIMIT - chop the number solutions (best used with ORDER BY)\n",
    "ORDER BY - sorted results\n",
    "DISTINCT - yield only one row for one combination of variables and values.\n",
    "The solution modifiers OFFSET/LIMIT and ORDER BY always apply to all result forms. \n",
    "\n",
    "#### OFFSET and LIMIT\n",
    "A set of solutions can be abbreviated by specifying the offset (the start index) and the limit (the number of solutions) to be returned. Using LIMIT alone can be useful to ensure not too many solutions are returned, to restrict the effect of some unexpected situation.  LIMIT and OFFSET can be used in conjunction with sorting to take a defined slice through the solutions found.\n",
    "\n",
    "#### ORDER BY\n",
    "SPARQL solutions are sorted by expression, including custom functions.\n",
    "\n",
    "```\n",
    "ORDER BY ?x ?y\n",
    "\n",
    "ORDER BY DESC(?x)\n",
    "\n",
    "ORDER BY x:func(?x)  # Custom sorting condition\n",
    "```\n",
    "\n",
    "#### DISTINCT\n",
    "The SELECT result form can take the DISTINCT modifier which ensures that no two solutions returned are the same - this takes place after projection to the requested variables.\n",
    "\n",
    "### SELECT\n",
    "The SELECT result form is a projection, with DISTINCT applied, of the solution set. SELECT identifies which named variables are in the result set.  This may be “*” meaning “all named variables” (blank nodes in the query act like variables for matching but are never returned).\n",
    "\n",
    "### CONSTRUCT\n",
    "CONSTRUCT builds an RDF based on a graph template.  The graph template can have variables which are bound by a WHERE clause.  The effect is to calculate the graph fragment, given the template, for each solution from the WHERE clause, after taking into account any solution modifiers. The graph fragments, one per solution, are merged into a single RDF graph which is the result.\n",
    "\n",
    "Any blank nodes explicitly mentioned in the graph template are created afresh for each time the template is used for a solution.\n",
    "\n",
    "### DESCRIBE\n",
    "The CONSTRUCT form, takes an application template for the graph results. The DESCRIBE form also creates a graph but the form of that graph is provided the query processor, not the application. For each URI found, or explicitly mentioned in the DESCRIBE clause, the query processor should provide a useful fragment of RDF, such as all the known details of a book. ARQ allows domain-specific description handlers to be written.\n",
    "\n",
    "### ASK\n",
    "The ASK result form returns a boolean, true of the pattern matched otherwise false."
   ]
  }
 ],
 "metadata": {
  "kernelspec": {
   "display_name": "Python 3 (ipykernel)",
   "language": "python",
   "name": "python3"
  },
  "language_info": {
   "codemirror_mode": {
    "name": "ipython",
    "version": 3
   },
   "file_extension": ".py",
   "mimetype": "text/x-python",
   "name": "python",
   "nbconvert_exporter": "python",
   "pygments_lexer": "ipython3",
   "version": "3.10.4"
  }
 },
 "nbformat": 4,
 "nbformat_minor": 4
}
